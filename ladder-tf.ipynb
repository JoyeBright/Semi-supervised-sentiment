{
  "nbformat": 4,
  "nbformat_minor": 0,
  "metadata": {
    "colab": {
      "name": "ladder_tf.ipynb",
      "provenance": [],
      "collapsed_sections": [],
      "authorship_tag": "ABX9TyNLIMati14fwgIRyXRYe9Y1",
      "include_colab_link": true
    },
    "kernelspec": {
      "name": "python3",
      "display_name": "Python 3"
    }
  },
  "cells": [
    {
      "cell_type": "markdown",
      "metadata": {
        "id": "view-in-github",
        "colab_type": "text"
      },
      "source": [
        "<a href=\"https://colab.research.google.com/github/JoyeBright/Semi-supervised-sentiment/blob/ImageLadder/ladder-tf.ipynb\" target=\"_parent\"><img src=\"https://colab.research.google.com/assets/colab-badge.svg\" alt=\"Open In Colab\"/></a>"
      ]
    },
    {
      "cell_type": "markdown",
      "metadata": {
        "id": "HfYNcqF7-XRs",
        "colab_type": "text"
      },
      "source": [
        "## **Dataset Preparation**"
      ]
    },
    {
      "cell_type": "code",
      "metadata": {
        "id": "ZSYUT32xuFpQ",
        "colab_type": "code",
        "colab": {}
      },
      "source": [
        "import urllib.request\n",
        "import gzip\n",
        "import numpy"
      ],
      "execution_count": 0,
      "outputs": []
    },
    {
      "cell_type": "code",
      "metadata": {
        "id": "OlJSl3VuGwvX",
        "colab_type": "code",
        "colab": {}
      },
      "source": [
        "SOURCE_URL = 'http://yann.lecun.com/exdb/mnist/'"
      ],
      "execution_count": 0,
      "outputs": []
    },
    {
      "cell_type": "code",
      "metadata": {
        "id": "YxuJg2PRFQot",
        "colab_type": "code",
        "colab": {}
      },
      "source": [
        "def maybe_download(filename, work_directory):\n",
        "  if not os.path.exists(work_directory):\n",
        "    os.mkdir(work_directory)\n",
        "  filepath = os.path.join(work_directory, filename)\n",
        "  \n",
        "  if not os.path.exists(filepath):\n",
        "    filepath, _ = urllib.request.urlretrieve(SOURCE_URL + filename, filepath)\n",
        "    statinfo = os.stat(filepath)\n",
        "    print('Succesfully downloaded', filename, statinfo.st_size, 'bytes.')\n",
        "  return filepath\n"
      ],
      "execution_count": 0,
      "outputs": []
    },
    {
      "cell_type": "code",
      "metadata": {
        "id": "wAYo7yHgJUmh",
        "colab_type": "code",
        "colab": {}
      },
      "source": [
        "def _read32(bytestream):\n",
        "  dt = numpy.dtype(numpy.uint32).newbyteorder('>')\n",
        "  return numpy.frombuffer(bytestream.read(4), dtype=dt)[0]"
      ],
      "execution_count": 0,
      "outputs": []
    },
    {
      "cell_type": "markdown",
      "metadata": {
        "id": "5EnuS68YOUeK",
        "colab_type": "text"
      },
      "source": [
        "### **Extract the images into a 4D uint8 numpy array [index, y, x, depth]**"
      ]
    },
    {
      "cell_type": "code",
      "metadata": {
        "id": "oxIhkNz7KHL7",
        "colab_type": "code",
        "colab": {}
      },
      "source": [
        "def extract_images(filename):\n",
        "  print('extracting', filename)\n",
        "  with gzip.open(filename) as bytestream:\n",
        "    magic = _read32(bytestream)\n",
        "    if magic != 2051:\n",
        "      raise ValueError(\n",
        "          'Invalid magic number %d in MNIST image file: %s' %\n",
        "      (magic, filename))\n",
        "    num_images = _read32(bytestream)\n",
        "    rows = _read32(bytestream)\n",
        "    cols = _read32(bytestream)\n",
        "    buf = bytestream.read(rows * cols * num_images)\n",
        "    data = numpy.frombuffer(buf, dtype=numpy.uint8)\n",
        "    data = data.reshape(num_images, rows, cols, 1)\n",
        "    return data"
      ],
      "execution_count": 0,
      "outputs": []
    },
    {
      "cell_type": "markdown",
      "metadata": {
        "id": "rg0uKbhGNYnu",
        "colab_type": "text"
      },
      "source": [
        "### **Convert class labels from scalars to one-hot vectors**"
      ]
    },
    {
      "cell_type": "code",
      "metadata": {
        "id": "FM9ypkFkNWZY",
        "colab_type": "code",
        "colab": {}
      },
      "source": [
        "def dense_to_one_hot(labels_dense, num_classes=10):\n",
        "  num_labels = labels_dense.shape[0]\n",
        "  index_offset = numpy.arange(num_labels) * num_classes\n",
        "  labels_one_hot = numpy.zeros((num_labels, num_classes))\n",
        "  labels_one_hot.flat[index_offset + labels_dense.ravel()] = 1\n",
        "  return labels_one_hot"
      ],
      "execution_count": 0,
      "outputs": []
    },
    {
      "cell_type": "markdown",
      "metadata": {
        "id": "jEGjgbVGNhVO",
        "colab_type": "text"
      },
      "source": [
        "### **Extract the labels into a 1D uint8 numpy array [index]**"
      ]
    },
    {
      "cell_type": "code",
      "metadata": {
        "id": "zoNTopDgNfSt",
        "colab_type": "code",
        "colab": {}
      },
      "source": [
        "def extract_labels(filename, one_hot=False):\n",
        "  print('Extracting', filename)\n",
        "  with gzip.open(filename) as bytestream:\n",
        "    magic = _read32(bytestream)\n",
        "    if magic != 2049:\n",
        "      raise ValueError(\n",
        "          'Invalid magic number %d in MNIST label file: %s' %\n",
        "          (magic, filename))\n",
        "    num_items = _read32(bytestream)\n",
        "    buf = bytestream.read(num_items)\n",
        "    labels = numpy.frombuffer(buf, dtype=numpy.uint8)\n",
        "    if one_hot:\n",
        "      return dense_to_one_hot(labels)\n",
        "    return labels"
      ],
      "execution_count": 0,
      "outputs": []
    },
    {
      "cell_type": "markdown",
      "metadata": {
        "id": "8djNCu5ePjdw",
        "colab_type": "text"
      },
      "source": [
        "### **Dataset Class**"
      ]
    },
    {
      "cell_type": "code",
      "metadata": {
        "id": "10rp-IJZ_yz0",
        "colab_type": "code",
        "colab": {}
      },
      "source": [
        "class DataSet(object):\n",
        "\n",
        "  def __init__(self, images, labels, fake_data= False):\n",
        "    if fake_data:\n",
        "      self._num_examples= 10000\n",
        "    else:\n",
        "      assert images.shape[0] == labels.shape[0], (\"images.shape: %s labels.shape: %s\" % (images.shape, labels.shape))\n",
        "\n",
        "      self._num_examples=images.shape[0]\n",
        "\n",
        "      assert images.shape[3] == 1\n",
        "\n",
        "      images = images.reshape(images.shape[0], images.shape[1] * images.shape[2])\n",
        "      images = images.astype(numpy.float32)\n",
        "      images = numpy.multiply(images, 1.0 / 255.0)\n",
        "\n",
        "    self._images = images\n",
        "    self._labels = labels\n",
        "    self._epochs_completed = 0\n",
        "    self._index_in_epoch = 0\n",
        "\n",
        "  @property\n",
        "  def images(self):\n",
        "    return self._images\n",
        "\n",
        "  @property\n",
        "  def labels(self):\n",
        "    return self._labels\n",
        "\n",
        "  @property\n",
        "  def num_examples(self):\n",
        "    return self._num_examples\n",
        "\n",
        "  @property\n",
        "  def epochs_completed(self):\n",
        "    return self._epochs_completed\n",
        "  \n",
        "  def next_batch(self, batch_size, fake_data=False):\n",
        "    \"\"\"Return the next `batch_size` examples from this data set.\"\"\"\n",
        "    if fake_data:\n",
        "      fake_image = [1.0 for _ in xrange(784)]\n",
        "      fake_label = 0\n",
        "      return [fake_image for _ in xrange(batch_size)], [\n",
        "          fake_label for _ in xrange(batch_size)]\n",
        "    start = self._index_in_epoch\n",
        "    self._index_in_epoch += batch_size\n",
        "    if self._index_in_epoch > self._num_examples:\n",
        "      # Finished epoch\n",
        "      self._epochs_completed += 1\n",
        "      # Shuffle the data\n",
        "      perm = numpy.arange(self._num_examples)\n",
        "      numpy.random.shuffle(perm)\n",
        "      self._images = self._images[perm]\n",
        "      self._labels = self._labels[perm]\n",
        "      # Start next epoch\n",
        "      start = 0\n",
        "      self._index_in_epoch = batch_size\n",
        "      assert batch_size <= self._num_examples\n",
        "    end = self._index_in_epoch\n",
        "    return self._images[start:end], self._labels[start:end]"
      ],
      "execution_count": 0,
      "outputs": []
    },
    {
      "cell_type": "markdown",
      "metadata": {
        "id": "pAbPQd_-P7hG",
        "colab_type": "text"
      },
      "source": [
        "### **Semi-supervised Dataset Class**"
      ]
    },
    {
      "cell_type": "code",
      "metadata": {
        "id": "lRFJnOIvQD-f",
        "colab_type": "code",
        "colab": {}
      },
      "source": [
        "class SemiDataSet(object):\n",
        "    def __init__(self, images, labels, n_labeled):\n",
        "        self.n_labeled = n_labeled\n",
        "\n",
        "        # Unlabled DataSet\n",
        "        self.unlabeled_ds = DataSet(images, labels)\n",
        "\n",
        "        # Labeled DataSet\n",
        "        self.num_examples = self.unlabeled_ds.num_examples\n",
        "        indices = numpy.arange(self.num_examples)\n",
        "        shuffled_indices = numpy.random.permutation(indices)\n",
        "        images = images[shuffled_indices]\n",
        "        labels = labels[shuffled_indices]\n",
        "        y = numpy.array([numpy.arange(10)[l==1][0] for l in labels])\n",
        "        idx = indices[y==0][:5]\n",
        "        n_classes = y.max() + 1\n",
        "        n_from_each_class = n_labeled / n_classes\n",
        "        i_labeled = []\n",
        "        for c in range(n_classes):\n",
        "            i = indices[y==c][:n_from_each_class]\n",
        "            i_labeled += list(i)\n",
        "        l_images = images[i_labeled]\n",
        "        l_labels = labels[i_labeled]\n",
        "        self.labeled_ds = DataSet(l_images, l_labels)\n",
        "\n",
        "    def next_batch(self, batch_size):\n",
        "        unlabeled_images, _ = self.unlabeled_ds.next_batch(batch_size)\n",
        "        if batch_size > self.n_labeled:\n",
        "            labeled_images, labels = self.labeled_ds.next_batch(self.n_labeled)\n",
        "        else:\n",
        "            labeled_images, labels = self.labeled_ds.next_batch(batch_size)\n",
        "        images = numpy.vstack([labeled_images, unlabeled_images])\n",
        "        return images, labels"
      ],
      "execution_count": 0,
      "outputs": []
    },
    {
      "cell_type": "markdown",
      "metadata": {
        "id": "OeU3wJ4DPn59",
        "colab_type": "text"
      },
      "source": [
        "### **Main Function**"
      ]
    },
    {
      "cell_type": "code",
      "metadata": {
        "id": "p6V6lccR-oag",
        "colab_type": "code",
        "colab": {}
      },
      "source": [
        "def read_data_sets(train_dir, n_labeled = 100, fake_data=False, one_hot=False):\n",
        "  class DataSets(object):\n",
        "    pass\n",
        "  data_sets = DataSets()\n",
        "\n",
        "  if fake_data:\n",
        "    data_sets.train = DataSet([], [], fake_data=True)\n",
        "    data_sets.validation = DataSet([], [], fake_data=True)\n",
        "    data_sets.test = DataSet([], [], fake_data=True)\n",
        "    return data_sets\n",
        "\n",
        "  # datasets\n",
        "  TRAIN_IMAGES = 'train-images-idx3-ubyte.gz'\n",
        "  TRAIN_LABELS = 'train-labels-idx1-ubyte.gz'\n",
        "  TEST_IMAGES = 't10k-images-idx3-ubyte.gz'\n",
        "  TEST_LABELS = 't10k-labels-idx1-ubyte.gz'\n",
        "  VALIDATION_SIZE = 0\n",
        "\n",
        "  local_file = maybe_download(TRAIN_IMAGES, train_dir)\n",
        "  train_images = extract_images(local_file)\n",
        "\n",
        "  local_file = maybe_download(TRAIN_LABELS, train_dir)\n",
        "  train_labels = extract_labels(local_file, one_hot=one_hot)\n",
        "\n",
        "  local_file = maybe_download(TEST_LABELS, train_dir)\n",
        "  test_labels = extract_labels(local_file, one_hot=one_hot)\n",
        "\n",
        "  local_file = maybe_download(TEST_LABELS, train_dir)\n",
        "  test_labels = extract_labels(local_file, one_hot=one_hot)\n",
        "\n",
        "  validation_images = train_images[:VALIDATION_SIZE]\n",
        "  validation_labels = train_labels[:VALIDATION_SIZE]\n",
        "  train_images = train_images[VALIDATION_SIZE:]\n",
        "  train_labels = train_labels[VALIDATION_SIZE:]\n",
        "\n",
        "  data_sets.train = SemiDataSet(train_images, train_labels, n_labeled)\n",
        "  data_sets.validation = DataSet(validation_images, validation_labels)\n",
        "  data_sets.test = DataSet(test_images, test_labels)\n",
        "\n",
        "  return data_sets\n"
      ],
      "execution_count": 0,
      "outputs": []
    },
    {
      "cell_type": "code",
      "metadata": {
        "id": "XzQH4vZ3XZiy",
        "colab_type": "code",
        "outputId": "05d3b8a3-513f-4ca0-a08b-5210091ccd46",
        "colab": {
          "base_uri": "https://localhost:8080/",
          "height": 136
        }
      },
      "source": [
        "from tqdm import tqdm\n",
        "# Downgrade since colab installed tensorflow version 2.2.0 and it does not support placeholder as well\n",
        "!pip install tensorflow==1.1\n",
        "import tensorflow as tf"
      ],
      "execution_count": 202,
      "outputs": [
        {
          "output_type": "stream",
          "text": [
            "Requirement already satisfied: tensorflow==1.1 in /usr/local/lib/python3.6/dist-packages (1.1.0)\n",
            "Requirement already satisfied: six>=1.10.0 in /usr/local/lib/python3.6/dist-packages (from tensorflow==1.1) (1.12.0)\n",
            "Requirement already satisfied: protobuf>=3.2.0 in /usr/local/lib/python3.6/dist-packages (from tensorflow==1.1) (3.10.0)\n",
            "Requirement already satisfied: wheel>=0.26 in /usr/local/lib/python3.6/dist-packages (from tensorflow==1.1) (0.34.2)\n",
            "Requirement already satisfied: numpy>=1.11.0 in /usr/local/lib/python3.6/dist-packages (from tensorflow==1.1) (1.18.4)\n",
            "Requirement already satisfied: werkzeug>=0.11.10 in /usr/local/lib/python3.6/dist-packages (from tensorflow==1.1) (1.0.1)\n",
            "Requirement already satisfied: setuptools in /usr/local/lib/python3.6/dist-packages (from protobuf>=3.2.0->tensorflow==1.1) (46.3.0)\n"
          ],
          "name": "stdout"
        }
      ]
    },
    {
      "cell_type": "code",
      "metadata": {
        "id": "hp0CAg2MVUme",
        "colab_type": "code",
        "colab": {}
      },
      "source": [
        "import math\n",
        "import os"
      ],
      "execution_count": 0,
      "outputs": []
    },
    {
      "cell_type": "markdown",
      "metadata": {
        "id": "JwwlqLRRVzmB",
        "colab_type": "text"
      },
      "source": [
        "### **Tensorflow Initilization**"
      ]
    },
    {
      "cell_type": "code",
      "metadata": {
        "id": "pF9Emi4JmUjD",
        "colab_type": "code",
        "colab": {}
      },
      "source": [
        "layer_sizes = [784, 1000, 500, 250, 250, 250, 10]\n",
        "\n",
        "L = len(layer_sizes) - 1  # number of layers\n",
        "\n",
        "num_examples = 60000 # a training set of 60,000 examples\n",
        "num_epochs = 150\n",
        "num_labeled = 100\n",
        "\n",
        "starter_learning_rate = 0.02\n",
        "\n",
        "decay_after = 15\n",
        "\n",
        "batch_size = 100\n",
        "\n",
        "num_iter = (num_examples/batch_size) * num_epochs\n",
        "\n",
        "inputs = tf.placeholder(tf.float32, shape=(None, layer_sizes[0]))\n",
        "outputs = tf.placeholder(tf.float32)\n",
        "\n",
        "def bi(inits, size, name):\n",
        "    return tf.Variable(inits * tf.ones([size]), name=name)\n",
        "\n",
        "def wi(shape, name):\n",
        "    return tf.Variable(tf.random_normal(shape, name=name)) / math.sqrt(shape[0])\n",
        "\n",
        "shapes = list(zip(list(layer_sizes)[:-1], list(layer_sizes[1:])))  # shapes of linear layers\n",
        "\n",
        "weights = {'W': [wi(s, \"W\") for s in shapes],  # Encoder weights\n",
        "                 'V': [wi(s[::-1], \"V\") for s in shapes],  # Decoder weights\n",
        "                 # batch normalization parameter to shift the normalized value\n",
        "                 'beta': [bi(0.0, layer_sizes[l+1], \"beta\") for l in range(L)],\n",
        "                 # batch normalization parameter to scale the normalized value\n",
        "                 'gamma': [bi(1.0, layer_sizes[l+1], \"beta\") for l in range(L)]}\n",
        "\n",
        "noise_std = 0.3  # scaling factor for noise used in corrupted encoder\n",
        "\n",
        "# hyperparameters that denote the importance of each layer\n",
        "denoising_cost = [1000.0, 10.0, 0.10, 0.10, 0.10, 0.10, 0.10]\n",
        "\n",
        "join = lambda l, u: tf.concat([l, u], 0)\n",
        "labeled = lambda x: tf.slice(x, [0, 0], [batch_size, -1]) if x is not None else x\n",
        "unlabeled = lambda x: tf.slice(x, [batch_size, 0], [-1, -1]) if x is not None else x\n",
        "split_lu = lambda x: (labeled(x), unlabeled(x))\n",
        "\n",
        "training = tf.placeholder(tf.bool)\n",
        "\n",
        "ewma = tf.train.ExponentialMovingAverage(decay=0.99)  # to calculate the moving averages of mean and variance\n",
        "bn_assigns = []  # this list stores the updates to be made to average mean and variance\n",
        "\n",
        "\n",
        "def batch_normalization(batch, mean=None, var=None):\n",
        "    if mean is None or var is None:\n",
        "        mean, var = tf.nn.moments(batch, axes=[0])\n",
        "    return (batch - mean) / tf.sqrt(var + tf.constant(1e-10))\n",
        "\n",
        "# average mean and variance of all layers\n",
        "running_mean = [tf.Variable(tf.constant(0.0, shape=[l]), trainable=False) for l in layer_sizes[1:]]\n",
        "running_var = [tf.Variable(tf.constant(1.0, shape=[l]), trainable=False) for l in layer_sizes[1:]]\n",
        "\n",
        "\n",
        "def update_batch_normalization(batch, l):\n",
        "    \"batch normalize + update average mean and variance of layer l\"\n",
        "    mean, var = tf.nn.moments(batch, axes=[0])\n",
        "    assign_mean = running_mean[l-1].assign(mean)\n",
        "    assign_var = running_var[l-1].assign(var)\n",
        "    bn_assigns.append(ewma.apply([running_mean[l-1], running_var[l-1]]))\n",
        "    with tf.control_dependencies([assign_mean, assign_var]):\n",
        "        return (batch - mean) / tf.sqrt(var + 1e-10)"
      ],
      "execution_count": 0,
      "outputs": []
    },
    {
      "cell_type": "markdown",
      "metadata": {
        "id": "ODFWbQlSVdYK",
        "colab_type": "text"
      },
      "source": [
        "## **Encoder**"
      ]
    },
    {
      "cell_type": "code",
      "metadata": {
        "id": "I-XNeTiYVcLS",
        "colab_type": "code",
        "colab": {
          "base_uri": "https://localhost:8080/",
          "height": 255
        },
        "outputId": "3a4ea48b-c58a-423c-c001-62f30158493c"
      },
      "source": [
        "def encoder(inputs, noise_std):\n",
        "    h = inputs + tf.random_normal(tf.shape(inputs)) * noise_std  # add noise to input\n",
        "    d = {}  # to store the pre-activation, activation, mean and variance for each layer\n",
        "    # The data for labeled and unlabeled examples are stored separately\n",
        "    d['labeled'] = {'z': {}, 'm': {}, 'v': {}, 'h': {}}\n",
        "    d['unlabeled'] = {'z': {}, 'm': {}, 'v': {}, 'h': {}}\n",
        "    d['labeled']['z'][0], d['unlabeled']['z'][0] = split_lu(h)\n",
        "    for l in range(1, L+1):\n",
        "        print (\"Layer \", l, \": \", layer_sizes[l-1], \" -> \", layer_sizes[l])\n",
        "        d['labeled']['h'][l-1], d['unlabeled']['h'][l-1] = split_lu(h)\n",
        "        z_pre = tf.matmul(h, weights['W'][l-1])  # pre-activation\n",
        "        z_pre_l, z_pre_u = split_lu(z_pre)  # split labeled and unlabeled examples\n",
        "\n",
        "        m, v = tf.nn.moments(z_pre_u, axes=[0])\n",
        "\n",
        "        # if training:\n",
        "        def training_batch_norm():\n",
        "            # Training batch normalization\n",
        "            # batch normalization for labeled and unlabeled examples is performed separately\n",
        "            if noise_std > 0:\n",
        "                # Corrupted encoder\n",
        "                # batch normalization + noise\n",
        "                z = join(batch_normalization(z_pre_l), batch_normalization(z_pre_u, m, v))\n",
        "                z += tf.random_normal(tf.shape(z_pre)) * noise_std\n",
        "            else:\n",
        "                # Clean encoder\n",
        "                # batch normalization + update the average mean and variance using batch mean and variance of labeled examples\n",
        "                z = join(update_batch_normalization(z_pre_l, l), batch_normalization(z_pre_u, m, v))\n",
        "            return z\n",
        "\n",
        "        # else:\n",
        "        def eval_batch_norm():\n",
        "            # Evaluation batch normalization\n",
        "            # obtain average mean and variance and use it to normalize the batch\n",
        "            mean = ewma.average(running_mean[l-1])\n",
        "            var = ewma.average(running_var[l-1])\n",
        "            z = batch_normalization(z_pre, mean, var)\n",
        "            # Instead of the above statement, the use of the following 2 statements containing a typo\n",
        "            # consistently produces a 0.2% higher accuracy for unclear reasons.\n",
        "            # m_l, v_l = tf.nn.moments(z_pre_l, axes=[0])\n",
        "            # z = join(batch_normalization(z_pre_l, m_l, mean, var), batch_normalization(z_pre_u, mean, var))\n",
        "            return z\n",
        "\n",
        "        # perform batch normalization according to value of boolean \"training\" placeholder:\n",
        "        z = tf.cond(training, training_batch_norm, eval_batch_norm)\n",
        "\n",
        "        if l == L:\n",
        "            # use softmax activation in output layer\n",
        "            h = tf.nn.softmax(weights['gamma'][l-1] * (z + weights[\"beta\"][l-1]))\n",
        "        else:\n",
        "            # use ReLU activation in hidden layers\n",
        "            h = tf.nn.relu(z + weights[\"beta\"][l-1])\n",
        "        d['labeled']['z'][l], d['unlabeled']['z'][l] = split_lu(z)\n",
        "        d['unlabeled']['m'][l], d['unlabeled']['v'][l] = m, v  # save mean and variance of unlabeled examples for decoding\n",
        "    d['labeled']['h'][l], d['unlabeled']['h'][l] = split_lu(h)\n",
        "    return h, d\n",
        "\n",
        "print(\"=== Corrupted Encoder ===\")\n",
        "y_c, corr = encoder(inputs, noise_std)\n",
        "\n",
        "print(\"=== Clean Encoder ===\")\n",
        "y, clean = encoder(inputs, 0.0)  # 0.0 -> do not add noise\n"
      ],
      "execution_count": 205,
      "outputs": [
        {
          "output_type": "stream",
          "text": [
            "=== Corrupted Encoder ===\n",
            "Layer  1 :  784  ->  1000\n",
            "Layer  2 :  1000  ->  500\n",
            "Layer  3 :  500  ->  250\n",
            "Layer  4 :  250  ->  250\n",
            "Layer  5 :  250  ->  250\n",
            "Layer  6 :  250  ->  10\n",
            "=== Clean Encoder ===\n",
            "Layer  1 :  784  ->  1000\n",
            "Layer  2 :  1000  ->  500\n",
            "Layer  3 :  500  ->  250\n",
            "Layer  4 :  250  ->  250\n",
            "Layer  5 :  250  ->  250\n",
            "Layer  6 :  250  ->  10\n"
          ],
          "name": "stdout"
        }
      ]
    },
    {
      "cell_type": "markdown",
      "metadata": {
        "id": "brCiO84Aeb8F",
        "colab_type": "text"
      },
      "source": [
        "### **Decoder**"
      ]
    },
    {
      "cell_type": "code",
      "metadata": {
        "id": "-4uIBXZQWo7u",
        "colab_type": "code",
        "colab": {
          "base_uri": "https://localhost:8080/",
          "height": 834
        },
        "outputId": "d30df682-31fa-404c-ec28-8fad31d24235"
      },
      "source": [
        "print(\"=== Decoder ===\")\n",
        "\n",
        "def g_gauss(z_c, u, size):\n",
        "    \"gaussian denoising function proposed in the original paper\"\n",
        "    wi = lambda inits, name: tf.Variable(inits * tf.ones([size]), name=name)\n",
        "    a1 = wi(0., 'a1')\n",
        "    a2 = wi(1., 'a2')\n",
        "    a3 = wi(0., 'a3')\n",
        "    a4 = wi(0., 'a4')\n",
        "    a5 = wi(0., 'a5')\n",
        "\n",
        "    a6 = wi(0., 'a6')\n",
        "    a7 = wi(1., 'a7')\n",
        "    a8 = wi(0., 'a8')\n",
        "    a9 = wi(0., 'a9')\n",
        "    a10 = wi(0., 'a10')\n",
        "\n",
        "    mu = a1 * tf.sigmoid(a2 * u + a3) + a4 * u + a5\n",
        "    v = a6 * tf.sigmoid(a7 * u + a8) + a9 * u + a10\n",
        "\n",
        "    z_est = (z_c - mu) * v + mu\n",
        "    return z_est\n",
        "\n",
        "# Decoder\n",
        "z_est = {}\n",
        "d_cost = []  # to store the denoising cost of all layers\n",
        "for l in range(L, -1, -1):\n",
        "    print(l)\n",
        "    print(L)\n",
        "    print (\"Layer \", l, \": \", layer_sizes[l+1] if l+1 < len(layer_sizes) else None, \" -> \", layer_sizes[l], \", denoising cost: \", denoising_cost[l])\n",
        "    z, z_c = clean['unlabeled']['z'][l], corr['unlabeled']['z'][l]\n",
        "    m, v = clean['unlabeled']['m'].get(l, 0), clean['unlabeled']['v'].get(l, 1-1e-10)\n",
        "    if l == L:\n",
        "        u = unlabeled(y_c)\n",
        "    else:\n",
        "        u = tf.matmul(z_est[l+1], weights['V'][l])\n",
        "    u = batch_normalization(u)\n",
        "    z_est[l] = g_gauss(z_c, u, layer_sizes[l])\n",
        "    z_est_bn = (z_est[l] - m) / v\n",
        "    # append the cost of this layer to d_cost\n",
        "    d_cost.append((tf.reduce_mean(tf.reduce_sum(tf.square(z_est_bn - z), 1)) / layer_sizes[l]) * denoising_cost[l])\n",
        "\n",
        "# calculate total unsupervised cost by adding the denoising cost of all layers\n",
        "u_cost = tf.add_n(d_cost)\n",
        "\n",
        "y_N = labeled(y_c)\n",
        "cost = -tf.reduce_mean(tf.reduce_sum(outputs*tf.log(y_N), 1))  # supervised cost\n",
        "loss = cost + u_cost  # total cost\n",
        "\n",
        "pred_cost = -tf.reduce_mean(tf.reduce_sum(outputs*tf.log(y), 1))  # cost used for prediction\n",
        "\n",
        "correct_prediction = tf.equal(tf.argmax(y, 1), tf.argmax(outputs, 1))  # no of correct predictions\n",
        "accuracy = tf.reduce_mean(tf.cast(correct_prediction, \"float\")) * tf.constant(100.0)\n",
        "\n",
        "learning_rate = tf.Variable(starter_learning_rate, trainable=False)\n",
        "train_step = tf.train.AdamOptimizer(learning_rate).minimize(loss)\n",
        "\n",
        "# add the updates of batch normalization statistics to train_step\n",
        "bn_updates = tf.group(*bn_assigns)\n",
        "with tf.control_dependencies([train_step]):\n",
        "    train_step = tf.group(bn_updates)\n",
        "\n",
        "print(\"===  Loading Data ===\")\n",
        "mnist = read_data_sets(\"MNIST_data\", n_labeled=num_labeled, one_hot=True)\n",
        "\n",
        "saver = tf.train.Saver()"
      ],
      "execution_count": 206,
      "outputs": [
        {
          "output_type": "stream",
          "text": [
            "=== Decoder ===\n",
            "6\n",
            "6\n",
            "Layer  6 :  None  ->  10 , denoising cost:  0.1\n",
            "5\n",
            "6\n",
            "Layer  5 :  10  ->  250 , denoising cost:  0.1\n",
            "4\n",
            "6\n",
            "Layer  4 :  250  ->  250 , denoising cost:  0.1\n",
            "3\n",
            "6\n",
            "Layer  3 :  250  ->  250 , denoising cost:  0.1\n",
            "2\n",
            "6\n",
            "Layer  2 :  250  ->  500 , denoising cost:  0.1\n",
            "1\n",
            "6\n",
            "Layer  1 :  500  ->  1000 , denoising cost:  10.0\n",
            "0\n",
            "6\n",
            "Layer  0 :  1000  ->  784 , denoising cost:  1000.0\n",
            "===  Loading Data ===\n",
            "extracting MNIST_data/train-images-idx3-ubyte.gz\n",
            "Extracting MNIST_data/train-labels-idx1-ubyte.gz\n",
            "Extracting MNIST_data/t10k-labels-idx1-ubyte.gz\n",
            "Extracting MNIST_data/t10k-labels-idx1-ubyte.gz\n"
          ],
          "name": "stdout"
        },
        {
          "output_type": "error",
          "ename": "TypeError",
          "evalue": "ignored",
          "traceback": [
            "\u001b[0;31m---------------------------------------------------------------------------\u001b[0m",
            "\u001b[0;31mTypeError\u001b[0m                                 Traceback (most recent call last)",
            "\u001b[0;32m<ipython-input-206-cea7425b01b9>\u001b[0m in \u001b[0;36m<module>\u001b[0;34m()\u001b[0m\n\u001b[1;32m     62\u001b[0m \u001b[0;34m\u001b[0m\u001b[0m\n\u001b[1;32m     63\u001b[0m \u001b[0mprint\u001b[0m\u001b[0;34m(\u001b[0m\u001b[0;34m\"===  Loading Data ===\"\u001b[0m\u001b[0;34m)\u001b[0m\u001b[0;34m\u001b[0m\u001b[0;34m\u001b[0m\u001b[0m\n\u001b[0;32m---> 64\u001b[0;31m \u001b[0mmnist\u001b[0m \u001b[0;34m=\u001b[0m \u001b[0mread_data_sets\u001b[0m\u001b[0;34m(\u001b[0m\u001b[0;34m\"MNIST_data\"\u001b[0m\u001b[0;34m,\u001b[0m \u001b[0mn_labeled\u001b[0m\u001b[0;34m=\u001b[0m\u001b[0mnum_labeled\u001b[0m\u001b[0;34m,\u001b[0m \u001b[0mone_hot\u001b[0m\u001b[0;34m=\u001b[0m\u001b[0;32mTrue\u001b[0m\u001b[0;34m)\u001b[0m\u001b[0;34m\u001b[0m\u001b[0;34m\u001b[0m\u001b[0m\n\u001b[0m\u001b[1;32m     65\u001b[0m \u001b[0;34m\u001b[0m\u001b[0m\n\u001b[1;32m     66\u001b[0m \u001b[0msaver\u001b[0m \u001b[0;34m=\u001b[0m \u001b[0mtf\u001b[0m\u001b[0;34m.\u001b[0m\u001b[0mtrain\u001b[0m\u001b[0;34m.\u001b[0m\u001b[0mSaver\u001b[0m\u001b[0;34m(\u001b[0m\u001b[0;34m)\u001b[0m\u001b[0;34m\u001b[0m\u001b[0;34m\u001b[0m\u001b[0m\n",
            "\u001b[0;32m<ipython-input-201-bb235c1d3bd5>\u001b[0m in \u001b[0;36mread_data_sets\u001b[0;34m(train_dir, n_labeled, fake_data, one_hot)\u001b[0m\n\u001b[1;32m     34\u001b[0m   \u001b[0mtrain_labels\u001b[0m \u001b[0;34m=\u001b[0m \u001b[0mtrain_labels\u001b[0m\u001b[0;34m[\u001b[0m\u001b[0mVALIDATION_SIZE\u001b[0m\u001b[0;34m:\u001b[0m\u001b[0;34m]\u001b[0m\u001b[0;34m\u001b[0m\u001b[0;34m\u001b[0m\u001b[0m\n\u001b[1;32m     35\u001b[0m \u001b[0;34m\u001b[0m\u001b[0m\n\u001b[0;32m---> 36\u001b[0;31m   \u001b[0mdata_sets\u001b[0m\u001b[0;34m.\u001b[0m\u001b[0mtrain\u001b[0m \u001b[0;34m=\u001b[0m \u001b[0mSemiDataSet\u001b[0m\u001b[0;34m(\u001b[0m\u001b[0mtrain_images\u001b[0m\u001b[0;34m,\u001b[0m \u001b[0mtrain_labels\u001b[0m\u001b[0;34m,\u001b[0m \u001b[0mn_labeled\u001b[0m\u001b[0;34m)\u001b[0m\u001b[0;34m\u001b[0m\u001b[0;34m\u001b[0m\u001b[0m\n\u001b[0m\u001b[1;32m     37\u001b[0m   \u001b[0mdata_sets\u001b[0m\u001b[0;34m.\u001b[0m\u001b[0mvalidation\u001b[0m \u001b[0;34m=\u001b[0m \u001b[0mDataSet\u001b[0m\u001b[0;34m(\u001b[0m\u001b[0mvalidation_images\u001b[0m\u001b[0;34m,\u001b[0m \u001b[0mvalidation_labels\u001b[0m\u001b[0;34m)\u001b[0m\u001b[0;34m\u001b[0m\u001b[0;34m\u001b[0m\u001b[0m\n\u001b[1;32m     38\u001b[0m   \u001b[0mdata_sets\u001b[0m\u001b[0;34m.\u001b[0m\u001b[0mtest\u001b[0m \u001b[0;34m=\u001b[0m \u001b[0mDataSet\u001b[0m\u001b[0;34m(\u001b[0m\u001b[0mtest_images\u001b[0m\u001b[0;34m,\u001b[0m \u001b[0mtest_labels\u001b[0m\u001b[0;34m)\u001b[0m\u001b[0;34m\u001b[0m\u001b[0;34m\u001b[0m\u001b[0m\n",
            "\u001b[0;32m<ipython-input-200-c48d4e8519fa>\u001b[0m in \u001b[0;36m__init__\u001b[0;34m(self, images, labels, n_labeled)\u001b[0m\n\u001b[1;32m     18\u001b[0m         \u001b[0mi_labeled\u001b[0m \u001b[0;34m=\u001b[0m \u001b[0;34m[\u001b[0m\u001b[0;34m]\u001b[0m\u001b[0;34m\u001b[0m\u001b[0;34m\u001b[0m\u001b[0m\n\u001b[1;32m     19\u001b[0m         \u001b[0;32mfor\u001b[0m \u001b[0mc\u001b[0m \u001b[0;32min\u001b[0m \u001b[0mrange\u001b[0m\u001b[0;34m(\u001b[0m\u001b[0mn_classes\u001b[0m\u001b[0;34m)\u001b[0m\u001b[0;34m:\u001b[0m\u001b[0;34m\u001b[0m\u001b[0;34m\u001b[0m\u001b[0m\n\u001b[0;32m---> 20\u001b[0;31m             \u001b[0mi\u001b[0m \u001b[0;34m=\u001b[0m \u001b[0mindices\u001b[0m\u001b[0;34m[\u001b[0m\u001b[0my\u001b[0m\u001b[0;34m==\u001b[0m\u001b[0mc\u001b[0m\u001b[0;34m]\u001b[0m\u001b[0;34m[\u001b[0m\u001b[0;34m:\u001b[0m\u001b[0mn_from_each_class\u001b[0m\u001b[0;34m]\u001b[0m\u001b[0;34m\u001b[0m\u001b[0;34m\u001b[0m\u001b[0m\n\u001b[0m\u001b[1;32m     21\u001b[0m             \u001b[0mi_labeled\u001b[0m \u001b[0;34m+=\u001b[0m \u001b[0mlist\u001b[0m\u001b[0;34m(\u001b[0m\u001b[0mi\u001b[0m\u001b[0;34m)\u001b[0m\u001b[0;34m\u001b[0m\u001b[0;34m\u001b[0m\u001b[0m\n\u001b[1;32m     22\u001b[0m         \u001b[0ml_images\u001b[0m \u001b[0;34m=\u001b[0m \u001b[0mimages\u001b[0m\u001b[0;34m[\u001b[0m\u001b[0mi_labeled\u001b[0m\u001b[0;34m]\u001b[0m\u001b[0;34m\u001b[0m\u001b[0;34m\u001b[0m\u001b[0m\n",
            "\u001b[0;31mTypeError\u001b[0m: slice indices must be integers or None or have an __index__ method"
          ]
        }
      ]
    },
    {
      "cell_type": "markdown",
      "metadata": {
        "id": "a145_86kYdlZ",
        "colab_type": "text"
      },
      "source": [
        "### **Session**"
      ]
    },
    {
      "cell_type": "code",
      "metadata": {
        "id": "IZRxkPD4YfRJ",
        "colab_type": "code",
        "colab": {}
      },
      "source": [
        "print (\"===  Starting Session ===\")\n",
        "sess = tf.Session()\n",
        "\n",
        "i_iter = 0\n",
        "\n",
        "ckpt = tf.train.get_checkpoint_state('checkpoints/')  # get latest checkpoint (if any)\n",
        "if ckpt and ckpt.model_checkpoint_path:\n",
        "    # if checkpoint exists, restore the parameters and set epoch_n and i_iter\n",
        "    saver.restore(sess, ckpt.model_checkpoint_path)\n",
        "    epoch_n = int(ckpt.model_checkpoint_path.split('-')[1])\n",
        "    i_iter = (epoch_n+1) * (num_examples/batch_size)\n",
        "    print (\"Restored Epoch \", epoch_n)\n",
        "else:\n",
        "    # no checkpoint exists. create checkpoints directory if it does not exist.\n",
        "    if not os.path.exists('checkpoints'):\n",
        "        os.makedirs('checkpoints')\n",
        "    init = tf.global_variables_initializer()\n",
        "    sess.run(init)"
      ],
      "execution_count": 0,
      "outputs": []
    },
    {
      "cell_type": "markdown",
      "metadata": {
        "id": "zSRQ1t-6YwZ-",
        "colab_type": "text"
      },
      "source": [
        "### **Training**"
      ]
    },
    {
      "cell_type": "code",
      "metadata": {
        "id": "g1K0phOmYyIP",
        "colab_type": "code",
        "colab": {}
      },
      "source": [
        "print (\"=== Training ===\")\n",
        "print (\"Initial Accuracy: \", sess.run(accuracy, feed_dict={inputs: mnist.test.images, outputs: mnist.test.labels, training: False}), \"%\")\n",
        "\n",
        "for i in tqdm(range(i_iter, num_iter)):\n",
        "    images, labels = mnist.train.next_batch(batch_size)\n",
        "    sess.run(train_step, feed_dict={inputs: images, outputs: labels, training: True})\n",
        "    if (i > 1) and ((i+1) % (num_iter/num_epochs) == 0):\n",
        "        epoch_n = i/(num_examples/batch_size)\n",
        "        if (epoch_n+1) >= decay_after:\n",
        "            # decay learning rate\n",
        "            # learning_rate = starter_learning_rate * ((num_epochs - epoch_n) / (num_epochs - decay_after))\n",
        "            ratio = 1.0 * (num_epochs - (epoch_n+1))  # epoch_n + 1 because learning rate is set for next epoch\n",
        "            ratio = max(0, ratio / (num_epochs - decay_after))\n",
        "            sess.run(learning_rate.assign(starter_learning_rate * ratio))\n",
        "        saver.save(sess, 'checkpoints/model.ckpt', epoch_n)\n",
        "        # print \"Epoch \", epoch_n, \", Accuracy: \", sess.run(accuracy, feed_dict={inputs: mnist.test.images, outputs:mnist.test.labels, training: False}), \"%\"\n",
        "        with open('train_log', 'ab') as train_log:\n",
        "            # write test accuracy to file \"train_log\"\n",
        "            train_log_w = csv.writer(train_log)\n",
        "            log_i = [epoch_n] + sess.run([accuracy], feed_dict={inputs: mnist.test.images, outputs: mnist.test.labels, training: False})\n",
        "            train_log_w.writerow(log_i)\n",
        "\n",
        "print (\"Final Accuracy: \", sess.run(accuracy, feed_dict={inputs: mnist.test.images, outputs: mnist.test.labels, training: False}), \"%\")\n",
        "\n",
        "sess.close()"
      ],
      "execution_count": 0,
      "outputs": []
    }
  ]
}